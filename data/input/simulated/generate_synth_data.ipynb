{
 "cells": [
  {
   "cell_type": "code",
   "execution_count": null,
   "id": "0bfe1e34",
   "metadata": {},
   "outputs": [],
   "source": [
    "# Create a csv file with 8 columns.  The headers should be M1, M2, ... M8\n",
    "# The content of the data will be AM-modulated whitenoise\n",
    "import numpy as np\n",
    "fs = 2148  # Sampling frequency\n",
    "T = 100  # Duration in seconds\n",
    "N= fs * T  # Total number of samples\n",
    "Nm = 8 # Number of channels\n",
    "sample_noise = np.random.uniform(0, 1, N)  # Generate white noise\n",
    "data = np.zeros((N, Nm))  # Initialize data array\n",
    "m_envelope = np.zeros((N, Nm))  # Initialize envelope array\n",
    "A = np.zeros(Nm)  # Amplitude array for each channel\n",
    "base_noise = np.zeros(Nm)  # Base noise for each channel\n",
    "for i in range(Nm):\n",
    "    offset = 5*i\n",
    "    offset2 = i/3\n",
    "    # Circular shift for sample_noise to create different channels\n",
    "    sample_noise = np.roll(sample_noise, i)  # Shift the noise for each channel\n",
    "    A[i] = np.random.uniform(0.5, 3)  # Random amplitude for each channel\n",
    "    base_noise[i] = np.random.uniform(0, .05)  # Base noise for each channel\n",
    "    m_envelope[:, i] = (np.sin(np.linspace(0, T * 2 * np.pi, N)+offset) + np.sin(np.linspace(0, T * 4 * np.pi, N)+offset2) ) # Implied periodic envelope, with f = 1Hz\n",
    "    m_envelope[:, i] = A[i]/(1+np.exp(-(np.abs(m_envelope[:, i])-2)))  # Normalize the envelope\n",
    "    data[:, i] = sample_noise * m_envelope[:, i]  + base_noise[i] * sample_noise # AM-modulated whitenoise\n",
    "\n",
    "# Plot the data\n",
    "import matplotlib.pyplot as plt\n",
    "plt.figure(figsize=(10, 6))\n",
    "for i in range(Nm):\n",
    "    plt.plot(data[:, i] + i * 2, label=f'M{i+1}')  # Offset each channel for visibility"
   ]
  },
  {
   "cell_type": "code",
   "execution_count": null,
   "id": "6b6eab56",
   "metadata": {},
   "outputs": [],
   "source": [
    "# Append sample count as first column\n",
    "data = np.column_stack((np.arange(1, N + 1), data))\n",
    "# Save as CSV\n",
    "header = 'Sample,' + ','.join([f'M{i+1}' for i in range(Nm)])\n",
    "filename = 'synth_data.csv'\n",
    "np.savetxt(filename, data, delimiter=',', header=header, comments='')"
   ]
  }
 ],
 "metadata": {
  "kernelspec": {
   "display_name": "base",
   "language": "python",
   "name": "python3"
  },
  "language_info": {
   "codemirror_mode": {
    "name": "ipython",
    "version": 3
   },
   "file_extension": ".py",
   "mimetype": "text/x-python",
   "name": "python",
   "nbconvert_exporter": "python",
   "pygments_lexer": "ipython3",
   "version": "3.12.2"
  }
 },
 "nbformat": 4,
 "nbformat_minor": 5
}
